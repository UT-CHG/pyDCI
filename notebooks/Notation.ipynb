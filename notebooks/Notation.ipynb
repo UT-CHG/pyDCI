{
 "cells": [
  {
   "cell_type": "code",
   "execution_count": 20,
   "metadata": {},
   "outputs": [
    {
     "data": {
      "text/latex": [
       "$\\mathbf{\\lambda}$"
      ],
      "text/plain": [
       "<IPython.core.display.Latex object>"
      ]
     },
     "metadata": {},
     "output_type": "display_data"
    },
    {
     "data": {
      "text/latex": [
       "$\\mathbf{\\lambda}^{\\mathrm{MUD}}$"
      ],
      "text/plain": [
       "<IPython.core.display.Latex object>"
      ]
     },
     "metadata": {},
     "output_type": "display_data"
    },
    {
     "data": {
      "text/latex": [
       "$Q_{\\mathrm{PCA}}^{(2)}$"
      ],
      "text/plain": [
       "<IPython.core.display.Latex object>"
      ]
     },
     "metadata": {},
     "output_type": "display_data"
    },
    {
     "data": {
      "text/latex": [
       "$\\pi_{\\mathrm{pred}}^{(2)}|_{1}$"
      ],
      "text/plain": [
       "<IPython.core.display.Latex object>"
      ]
     },
     "metadata": {},
     "output_type": "display_data"
    },
    {
     "data": {
      "text/latex": [
       "$\\mathbf{\\lambda}^{\\mathrm{MUD},2}_{1}$"
      ],
      "text/plain": [
       "<IPython.core.display.Latex object>"
      ]
     },
     "metadata": {},
     "output_type": "display_data"
    },
    {
     "data": {
      "text/latex": [
       "$\\mathbf{q}$"
      ],
      "text/plain": [
       "<IPython.core.display.Latex object>"
      ]
     },
     "metadata": {},
     "output_type": "display_data"
    },
    {
     "data": {
      "text/latex": [
       "$Q_{\\mathrm{PCA}}^{(2)}(\\mathbf{\\lambda}^{\\mathrm{MUD},2}_{1})$"
      ],
      "text/plain": [
       "<IPython.core.display.Latex object>"
      ]
     },
     "metadata": {},
     "output_type": "display_data"
    }
   ],
   "source": [
    "import importlib\n",
    "from IPython.display import Latex, display\n",
    "\n",
    "from pydci.plotting import plt\n",
    "import pydci.notation as notation\n",
    "\n",
    "importlib.reload(notation)\n",
    "\n",
    "\n",
    "test_str = notation.gen_latex('param', iteration=2, idx=1, name='MUD')\n",
    "\n",
    "def mud_pt(\n",
    "    iteration=None,\n",
    "    idx=None,\n",
    "):\n",
    "    return notation.gen_latex(\n",
    "        'param',\n",
    "        iteration=iteration,\n",
    "        idx=idx,\n",
    "        name='MUD',\n",
    "        bold=True,\n",
    "    )\n",
    "\n",
    "def q_pca(\n",
    "    iteration=None,\n",
    "    idx=None,\n",
    "    name=None,\n",
    "    bold=True,\n",
    "):\n",
    "    return notation.gen_latex(\n",
    "        'Q',\n",
    "        iteration=iteration,\n",
    "        idx=idx,\n",
    "        name='PCA',\n",
    "    )\n",
    "\n",
    "def qoi(\n",
    "    iteration=None,\n",
    "    idx=None,\n",
    "    name=None,\n",
    "    bold=True,\n",
    "):\n",
    "    return notation.gen_latex(\n",
    "        'qoi',\n",
    "        iteration=iteration,\n",
    "        idx=idx,\n",
    "        name=name,\n",
    "        bold=bold,\n",
    "    )\n",
    "\n",
    "def lam(\n",
    "    iteration=None,\n",
    "    idx=None,\n",
    "    name=None,\n",
    "    bold=True,\n",
    "):\n",
    "    return notation.gen_latex(\n",
    "        'param',\n",
    "        iteration=iteration,\n",
    "        idx=idx,\n",
    "        name=name,\n",
    "        bold=bold,\n",
    "    )\n",
    "\n",
    "def pi_in(\n",
    "    iteration=None,\n",
    "    idx=None,\n",
    "):\n",
    "    return notation.gen_latex(\n",
    "        'dist',\n",
    "        iteration=iteration,\n",
    "        idx=idx,\n",
    "        name='init',\n",
    "    )\n",
    "\n",
    "def pi_pred(\n",
    "    iteration=None,\n",
    "    idx=None,\n",
    "):\n",
    "    return notation.gen_latex(\n",
    "        'dist',\n",
    "        iteration=iteration,\n",
    "        idx=idx,\n",
    "        name='pred',\n",
    "    )\n",
    "\n",
    "def pi_obs(\n",
    "    iteration=None,\n",
    "    idx=None,\n",
    "):\n",
    "    return notation.gen_latex(\n",
    "        'dist',\n",
    "        iteration=iteration,\n",
    "        idx=idx,\n",
    "        name='obs',\n",
    "    )\n",
    "\n",
    "def pi_up(\n",
    "    iteration=None,\n",
    "    idx=None,\n",
    "):\n",
    "    return notation.gen_latex(\n",
    "        'dist',\n",
    "        iteration=iteration,\n",
    "        idx=idx,\n",
    "        name='updated',\n",
    "    )\n",
    "\n",
    "def pi_up(\n",
    "    iteration=None,\n",
    "    idx=None,\n",
    "):\n",
    "    return notation.gen_latex(\n",
    "        'dist',\n",
    "        iteration=iteration,\n",
    "        idx=idx,\n",
    "        name='obs',\n",
    "    )\n",
    "\n",
    "def pi_pf(\n",
    "    iteration=None,\n",
    "    idx=None,\n",
    "):\n",
    "    # TODO: what label to use for push forward or updated?\n",
    "    return notation.gen_latex(\n",
    "        'dist',\n",
    "        iteration=iteration,\n",
    "        idx=idx,\n",
    "        name='pf-up',\n",
    "    )\n",
    "\n",
    "# display(Latex(get_pi_pred(idx=1, iteration=2)))\n",
    "\n",
    "display(Latex(lam()))\n",
    "display(Latex(mud_pt()))\n",
    "display(Latex(q_pca(iteration=2)))\n",
    "\n",
    "display(Latex(notation.gen_latex('dist', name='pred', idx=1, iteration=2)))\n",
    "display(Latex(notation.gen_latex('param', name='MUD', idx=1, iteration=2)))\n",
    "display(Latex(notation.gen_latex('qoi', name=None, idx=None, iteration='m')))\n",
    "display(Latex(notation.gen_latex(\n",
    "    'Q', name='PCA', iteration=2,\n",
    "    arg=dict(key='param', name='MUD', idx=1, iteration=2))))\n"
   ]
  },
  {
   "cell_type": "code",
   "execution_count": 34,
   "metadata": {},
   "outputs": [
    {
     "data": {
      "text/latex": [
       "$\\pi_{pred}^{(2)}|_{1}$"
      ],
      "text/plain": [
       "<IPython.core.display.Latex object>"
      ]
     },
     "metadata": {},
     "output_type": "display_data"
    }
   ],
   "source": []
  },
  {
   "cell_type": "code",
   "execution_count": 2,
   "metadata": {},
   "outputs": [
    {
     "ename": "NameError",
     "evalue": "name 'gen_latex' is not defined",
     "output_type": "error",
     "traceback": [
      "\u001b[0;31m---------------------------------------------------------------------------\u001b[0m",
      "\u001b[0;31mNameError\u001b[0m                                 Traceback (most recent call last)",
      "\u001b[1;32m/Users/cnegrete/repos/pyDCI/notebooks/Notation.ipynb Cell 3\u001b[0m line \u001b[0;36m1\n\u001b[0;32m----> <a href='vscode-notebook-cell:/Users/cnegrete/repos/pyDCI/notebooks/Notation.ipynb#W4sZmlsZQ%3D%3D?line=0'>1</a>\u001b[0m gen_latex(\u001b[39m'\u001b[39m\u001b[39mdist\u001b[39m\u001b[39m'\u001b[39m, name\u001b[39m=\u001b[39m\u001b[39m'\u001b[39m\u001b[39mpred\u001b[39m\u001b[39m'\u001b[39m, idx\u001b[39m=\u001b[39m\u001b[39m1\u001b[39m, iteration\u001b[39m=\u001b[39m\u001b[39m2\u001b[39m)\n",
      "\u001b[0;31mNameError\u001b[0m: name 'gen_latex' is not defined"
     ]
    }
   ],
   "source": [
    "gen_latex('dist', name='pred', idx=1, iteration=2)"
   ]
  },
  {
   "cell_type": "code",
   "execution_count": null,
   "metadata": {},
   "outputs": [],
   "source": []
  }
 ],
 "metadata": {
  "kernelspec": {
   "display_name": "thesis",
   "language": "python",
   "name": "python3"
  },
  "language_info": {
   "codemirror_mode": {
    "name": "ipython",
    "version": 3
   },
   "file_extension": ".py",
   "mimetype": "text/x-python",
   "name": "python",
   "nbconvert_exporter": "python",
   "pygments_lexer": "ipython3",
   "version": "3.11.6"
  }
 },
 "nbformat": 4,
 "nbformat_minor": 2
}
