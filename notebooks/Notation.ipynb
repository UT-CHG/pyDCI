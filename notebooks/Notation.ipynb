{
 "cells": [
  {
   "cell_type": "markdown",
   "metadata": {},
   "source": [
    "# pyDCI Noatation"
   ]
  },
  {
   "cell_type": "code",
   "execution_count": 2,
   "metadata": {},
   "outputs": [
    {
     "data": {
      "text/latex": [
       "$\\mathbf{\\lambda}^{\\mathrm{MUD}}$"
      ],
      "text/plain": [
       "<IPython.core.display.Latex object>"
      ]
     },
     "metadata": {},
     "output_type": "display_data"
    },
    {
     "data": {
      "text/latex": [
       "$\\pi_{\\mathrm{init}}(\\mathbf{\\lambda}_{2})$"
      ],
      "text/plain": [
       "<IPython.core.display.Latex object>"
      ]
     },
     "metadata": {},
     "output_type": "display_data"
    },
    {
     "name": "stdout",
     "output_type": "stream",
     "text": [
      "\n",
      "\n",
      "Expected Ratio\n"
     ]
    },
    {
     "data": {
      "text/latex": [
       "$r$"
      ],
      "text/plain": [
       "<IPython.core.display.Latex object>"
      ]
     },
     "metadata": {},
     "output_type": "display_data"
    },
    {
     "data": {
      "text/latex": [
       "$wr$"
      ],
      "text/plain": [
       "<IPython.core.display.Latex object>"
      ]
     },
     "metadata": {},
     "output_type": "display_data"
    },
    {
     "data": {
      "text/latex": [
       "$r^{(2),1}$"
      ],
      "text/plain": [
       "<IPython.core.display.Latex object>"
      ]
     },
     "metadata": {},
     "output_type": "display_data"
    },
    {
     "data": {
      "text/latex": [
       "$r^{(2)}$"
      ],
      "text/plain": [
       "<IPython.core.display.Latex object>"
      ]
     },
     "metadata": {},
     "output_type": "display_data"
    },
    {
     "data": {
      "text/latex": [
       "$r^{(i),1}$"
      ],
      "text/plain": [
       "<IPython.core.display.Latex object>"
      ]
     },
     "metadata": {},
     "output_type": "display_data"
    },
    {
     "data": {
      "text/latex": [
       "$w^{(2),1}r^{(2),1}$"
      ],
      "text/plain": [
       "<IPython.core.display.Latex object>"
      ]
     },
     "metadata": {},
     "output_type": "display_data"
    },
    {
     "data": {
      "text/latex": [
       "$w^{(2)}r^{(2)}$"
      ],
      "text/plain": [
       "<IPython.core.display.Latex object>"
      ]
     },
     "metadata": {},
     "output_type": "display_data"
    },
    {
     "data": {
      "text/latex": [
       "$w^{(i),1}r^{(i),1}$"
      ],
      "text/plain": [
       "<IPython.core.display.Latex object>"
      ]
     },
     "metadata": {},
     "output_type": "display_data"
    },
    {
     "data": {
      "text/latex": [
       "$w^{(i),1}r^{(i),1}$"
      ],
      "text/plain": [
       "<IPython.core.display.Latex object>"
      ]
     },
     "metadata": {},
     "output_type": "display_data"
    }
   ],
   "source": [
    "import importlib\n",
    "from IPython.display import Latex, display\n",
    "\n",
    "from pydci.plotting import plt\n",
    "import pydci.notation as dcin \n",
    "\n",
    "importlib.reload(dcin)\n",
    "\n",
    "\n",
    "display(Latex(dcin.mud_pt()))\n",
    "dcin.pi_up(iteration=0, idx=0)\n",
    "\n",
    "display(Latex(dcin.pi('in', arg=dcin.lam(idx=1))))\n",
    "\n",
    "\n",
    "print('\\n\\nExpected Ratio')\n",
    "display(Latex(dcin.r()))\n",
    "display(Latex(dcin.r(weighted=True)))\n",
    "display(Latex(dcin.r(iteration=1, sample=2, weighted=False)))\n",
    "display(Latex(dcin.r(sample=2, weighted=False)))\n",
    "display(Latex(dcin.r(iteration=1, weighted=False)))\n",
    "display(Latex(dcin.r(iteration=1, sample=2, weighted=True)))\n",
    "display(Latex(dcin.r(sample=2, weighted=True)))\n",
    "display(Latex(dcin.r(iteration=1, weighted=True)))\n",
    "display(Latex(dcin.r(iteration=1, weighted=True)))"
   ]
  },
  {
   "cell_type": "code",
   "execution_count": 24,
   "metadata": {},
   "outputs": [
    {
     "data": {
      "text/plain": [
       "'$\\\\mathbf{q}$'"
      ]
     },
     "execution_count": 24,
     "metadata": {},
     "output_type": "execute_result"
    }
   ],
   "source": [
    "dcin.q(iteration=1)"
   ]
  },
  {
   "cell_type": "code",
   "execution_count": 17,
   "metadata": {},
   "outputs": [
    {
     "data": {
      "text/plain": [
       "\"w^{(2),'1'}r^{(2),'1'}\""
      ]
     },
     "execution_count": 17,
     "metadata": {},
     "output_type": "execute_result"
    }
   ],
   "source": [
    "dcin.r(iteration=1, sample=2, weighted=True)"
   ]
  },
  {
   "cell_type": "code",
   "execution_count": null,
   "metadata": {},
   "outputs": [],
   "source": []
  },
  {
   "cell_type": "code",
   "execution_count": 6,
   "metadata": {},
   "outputs": [],
   "source": [
    "import doctest"
   ]
  },
  {
   "cell_type": "code",
   "execution_count": 8,
   "metadata": {},
   "outputs": [
    {
     "name": "stdout",
     "output_type": "stream",
     "text": [
      "**********************************************************************\n",
      "File \"/Users/cnegrete/repos/pyDCI/src/pydci/notation.py\", line 127, in pydci.notation.gen_dist_str\n",
      "Failed example:\n",
      "    gen_dist_str()\n",
      "Expected:\n",
      "    '$\\pi$'\n",
      "Got:\n",
      "    '$\\\\pi$'\n",
      "**********************************************************************\n",
      "File \"/Users/cnegrete/repos/pyDCI/src/pydci/notation.py\", line 129, in pydci.notation.gen_dist_str\n",
      "Failed example:\n",
      "    gen_dist_str(name='X', idx='i', iteration=2, arg='x', wrap=False)\n",
      "Expected:\n",
      "    '\\pi_{X}^{(2)}|_{i}(x)'\n",
      "Got:\n",
      "    '\\\\pi_{\\\\mathrm{X}}^{(2)}(x)'\n",
      "**********************************************************************\n",
      "File \"/Users/cnegrete/repos/pyDCI/src/pydci/notation.py\", line 131, in pydci.notation.gen_dist_str\n",
      "Failed example:\n",
      "    gen_dist_str(base='\\theta', idx='j', wrap=False)\n",
      "Expected:\n",
      "    '\\theta|_{j}'\n",
      "Got:\n",
      "    '\\theta'\n",
      "**********************************************************************\n",
      "File \"/Users/cnegrete/repos/pyDCI/src/pydci/notation.py\", line 187, in pydci.notation.gen_fun_str\n",
      "Failed example:\n",
      "    gen_fun_str(name='F', idx='i', iteration=2, arg='x', wrap=False)\n",
      "Expected:\n",
      "    'Q_{F}^{(2)}(x)'\n",
      "Got:\n",
      "    '(Q_{\\\\mathrm{F}}^{(2)})_{i}(x)'\n",
      "**********************************************************************\n",
      "File \"/Users/cnegrete/repos/pyDCI/src/pydci/notation.py\", line 189, in pydci.notation.gen_fun_str\n",
      "Failed example:\n",
      "    gen_fun_str(base='f', idx='j', wrap=False)\n",
      "Expected:\n",
      "    'f_{j}'\n",
      "Got:\n",
      "    '(f)_{j}'\n",
      "**********************************************************************\n",
      "File \"/Users/cnegrete/repos/pyDCI/src/pydci/notation.py\", line 268, in pydci.notation.gen_latex\n",
      "Failed example:\n",
      "    gen_latex('param', idx='i', iteration=2, sample=1, name=0.5, bold=False, wrap=False)\n",
      "Expected:\n",
      "    '\\lambda_{i}^{(2)}^{(1)}_{0.5}'\n",
      "Got:\n",
      "    '\\\\lambda^{(1)}_{i}'\n",
      "**********************************************************************\n",
      "File \"/Users/cnegrete/repos/pyDCI/src/pydci/notation.py\", line 270, in pydci.notation.gen_latex\n",
      "Failed example:\n",
      "    gen_latex('q', idx='j', sample=3, name=1.0, wrap=False)\n",
      "Expected:\n",
      "    'q_{j}^{(3)}_{1.0}'\n",
      "Got:\n",
      "    '\\\\mathbf{q}^{(3)}_{j}'\n",
      "**********************************************************************\n",
      "File \"/Users/cnegrete/repos/pyDCI/src/pydci/notation.py\", line 272, in pydci.notation.gen_latex\n",
      "Failed example:\n",
      "    gen_latex('dist', name='X', idx='k', arg='x', wrap=False)\n",
      "Expected:\n",
      "    '\\pi_{X}|_{k}(x)'\n",
      "Got:\n",
      "    '\\\\pi_{\\\\mathrm{X}}(x)'\n",
      "**********************************************************************\n",
      "File \"/Users/cnegrete/repos/pyDCI/src/pydci/notation.py\", line 274, in pydci.notation.gen_latex\n",
      "Failed example:\n",
      "    gen_latex('Q', name='F', idx='l', iteration=4, arg='y', wrap=False)\n",
      "Expected:\n",
      "    'Q_{F}^{(4)}(y)'\n",
      "Got:\n",
      "    '(Q_{\\\\mathrm{F}}^{(4)})_{l}(y)'\n",
      "**********************************************************************\n",
      "File \"/Users/cnegrete/repos/pyDCI/src/pydci/notation.py\", line 62, in pydci.notation.gen_value_str\n",
      "Failed example:\n",
      "    gen_value_str()\n",
      "Expected:\n",
      "    '$\\lambda$'\n",
      "Got:\n",
      "    '$\\\\mathbf{\\\\lambda}$'\n",
      "**********************************************************************\n",
      "File \"/Users/cnegrete/repos/pyDCI/src/pydci/notation.py\", line 64, in pydci.notation.gen_value_str\n",
      "Failed example:\n",
      "    param(base='x', sample=2)\n",
      "Exception raised:\n",
      "    Traceback (most recent call last):\n",
      "      File \"/Users/cnegrete/conda/envs/thesis/lib/python3.11/doctest.py\", line 1351, in __run\n",
      "        exec(compile(example.source, filename, \"single\",\n",
      "      File \"<doctest pydci.notation.gen_value_str[1]>\", line 1, in <module>\n",
      "        param(base='x', sample=2)\n",
      "        ^^^^^\n",
      "    NameError: name 'param' is not defined\n",
      "**********************************************************************\n",
      "File \"/Users/cnegrete/repos/pyDCI/src/pydci/notation.py\", line 66, in pydci.notation.gen_value_str\n",
      "Failed example:\n",
      "    gen_value_str(base='x', param_i=1)\n",
      "Exception raised:\n",
      "    Traceback (most recent call last):\n",
      "      File \"/Users/cnegrete/conda/envs/thesis/lib/python3.11/doctest.py\", line 1351, in __run\n",
      "        exec(compile(example.source, filename, \"single\",\n",
      "      File \"<doctest pydci.notation.gen_value_str[2]>\", line 1, in <module>\n",
      "        gen_value_str(base='x', param_i=1)\n",
      "    TypeError: gen_value_str() got an unexpected keyword argument 'param_i'\n",
      "**********************************************************************\n",
      "File \"/Users/cnegrete/repos/pyDCI/src/pydci/notation.py\", line 68, in pydci.notation.gen_value_str\n",
      "Failed example:\n",
      "    gen_value_str(base='x', name='MUD')\n",
      "Expected:\n",
      "    '$\\lambda^{MUD}$'\n",
      "Got:\n",
      "    '$\\\\mathbf{x}^{\\\\mathrm{MUD}}$'\n",
      "**********************************************************************\n",
      "File \"/Users/cnegrete/repos/pyDCI/src/pydci/notation.py\", line 70, in pydci.notation.gen_value_str\n",
      "Failed example:\n",
      "    gen_value_str(base='x', name='MUD', iteration=3)\n",
      "Expected:\n",
      "    '$\\lambda^{MUD,3}$'\n",
      "Got:\n",
      "    '$\\\\mathbf{x}^{\\\\mathrm{MUD},3}$'\n",
      "**********************************************************************\n",
      "File \"/Users/cnegrete/repos/pyDCI/src/pydci/notation.py\", line 447, in pydci.notation.r\n",
      "Failed example:\n",
      "    r(weighted=True)\n",
      "Expected:\n",
      "    '$wr$'\n",
      "Got:\n",
      "    '$w^(None)r$'\n",
      "**********************************************************************\n",
      "File \"/Users/cnegrete/repos/pyDCI/src/pydci/notation.py\", line 449, in pydci.notation.r\n",
      "Failed example:\n",
      "    r(iteration=1, sample=2, weighted=False)\n",
      "Expected:\n",
      "    '$r^{(2),1}$'\n",
      "Got:\n",
      "    '$r^(1,2)$'\n",
      "**********************************************************************\n",
      "File \"/Users/cnegrete/repos/pyDCI/src/pydci/notation.py\", line 451, in pydci.notation.r\n",
      "Failed example:\n",
      "    r(sample=2, weighted=False)\n",
      "Expected:\n",
      "    '$r^{(2)}$'\n",
      "Got:\n",
      "    '$r^(2)$'\n",
      "**********************************************************************\n",
      "File \"/Users/cnegrete/repos/pyDCI/src/pydci/notation.py\", line 453, in pydci.notation.r\n",
      "Failed example:\n",
      "    r(iteration=1, weighted=False)\n",
      "Expected:\n",
      "    '$r^{(i),1}$'\n",
      "Got:\n",
      "    '$r^(1)$'\n",
      "**********************************************************************\n",
      "File \"/Users/cnegrete/repos/pyDCI/src/pydci/notation.py\", line 455, in pydci.notation.r\n",
      "Failed example:\n",
      "    r(iteration=1, sample=2, weighted=True)\n",
      "Expected:\n",
      "    '$w^{(2),1}r^{(2),1}$'\n",
      "Got:\n",
      "    '$w^(1,2)r^(1,2)$'\n",
      "**********************************************************************\n",
      "File \"/Users/cnegrete/repos/pyDCI/src/pydci/notation.py\", line 457, in pydci.notation.r\n",
      "Failed example:\n",
      "    r(sample=2, weighted=True)\n",
      "Expected:\n",
      "    '$w^{(2)}r^{(2)}$'\n",
      "Got:\n",
      "    '$w^(2)r^(2)$'\n",
      "**********************************************************************\n",
      "File \"/Users/cnegrete/repos/pyDCI/src/pydci/notation.py\", line 459, in pydci.notation.r\n",
      "Failed example:\n",
      "    r(iteration=1, weighted=True)\n",
      "Expected:\n",
      "    '$w^{(i),1}r^{(i),1}$'\n",
      "Got:\n",
      "    '$w^(None)r^(1)$'\n",
      "**********************************************************************\n",
      "5 items had failures:\n",
      "   3 of   3 in pydci.notation.gen_dist_str\n",
      "   2 of   3 in pydci.notation.gen_fun_str\n",
      "   4 of   4 in pydci.notation.gen_latex\n",
      "   5 of   5 in pydci.notation.gen_value_str\n",
      "   7 of   8 in pydci.notation.r\n",
      "***Test Failed*** 21 failures.\n"
     ]
    },
    {
     "data": {
      "text/plain": [
       "TestResults(failed=21, attempted=23)"
      ]
     },
     "execution_count": 8,
     "metadata": {},
     "output_type": "execute_result"
    }
   ],
   "source": [
    "doctest.testmod(dcin)"
   ]
  },
  {
   "cell_type": "code",
   "execution_count": null,
   "metadata": {},
   "outputs": [],
   "source": []
  }
 ],
 "metadata": {
  "kernelspec": {
   "display_name": "thesis",
   "language": "python",
   "name": "python3"
  },
  "language_info": {
   "codemirror_mode": {
    "name": "ipython",
    "version": 3
   },
   "file_extension": ".py",
   "mimetype": "text/x-python",
   "name": "python",
   "nbconvert_exporter": "python",
   "pygments_lexer": "ipython3",
   "version": "3.11.6"
  }
 },
 "nbformat": 4,
 "nbformat_minor": 2
}
