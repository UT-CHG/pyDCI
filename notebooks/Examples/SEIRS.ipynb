{
 "cells": [
  {
   "cell_type": "markdown",
   "id": "5ebce491-fdf7-4989-931b-b402cd60aa4c",
   "metadata": {},
   "source": [
    "## SEIRS Model\n",
    "\n",
    "**Problem description**:\n",
    "\n",
    "The SEIR model describes the spread of a disease in a population fixed to $N$ individuals over time $t$. Furthermore, the model divides the population into four categories, called \"S\", \"E\", \"I\", and \"R\".\n",
    "- \"S\" consists of individuals who are susceptible to the disease being modeled.\n",
    "- \"E\" consists of individuals who are exposed to the disease. Diseases (like COVID-19) often have an incubation period or a latency period and this category accommodates it. (The SIR model does not have this category.)\n",
    "- \"I\" consists of individuals infected with the disease and are capable of infecting others.\n",
    "- \"R\" consists of individuals who can be removed from the system, e.g., because they have gained immunity to the disease, or because they have succumbed to the disease.\n",
    "\n",
    "The SEIR model, like many other epidemiological models depends on particular parameters, which are the following :\n",
    " - $\\beta>0$ The rate of contraction of the disease (transmission parameter)\n",
    " - $ \\sigma >0$ The incubation rate i.e. the rate at which exposed hosts become infected\n",
    " - $\\gamma>0$ : The mean recovery rate\n",
    "Individual $S$ becomes infected after positive contact with an $I$ individual. However, he develops immunity to the disease : he leaves $I$ category at a $\\gamma$ cure rate.\n",
    "\n",
    "**Model Assumptions**\n",
    "\n",
    "- Model is deterministic\n",
    "- On average, an individual $S$ in the population encounters $\\beta$ individuals per unit time.\n",
    "- The rate of infected individuals leaving category $I$ is $\\gamma I$ per unit time (once an individual has been infected, he develops immunity to the disease).\n",
    "- The population size $N=S+E+I+R$ is constant.\n",
    "- Note constant average number of contacts $\\beta$ is a strong and constraining assumption : it cannot be applied to all diseases.\n",
    "\n",
    "This is the system of equations of the model :\n",
    "\n",
    "The total population $N$ in the system (the sum of individuals in all categories) is likely to be quite large. Instead of working with such large numbers, let us divide each side of each equation by $\\mathbf{N}$ and work instead with the proportions\n",
    "$$\n",
    "s=\\frac{S}{N}, \\quad e=\\frac{E}{N}, \\quad i=\\frac{I}{N}, \\quad r=\\frac{R}{N} .\n",
    "$$\n",
    "The equivalent ODE system to be solved for the unknown functions $s(t), e(t), i(t)$, and $r(t)$, has now become\n",
    "$$\n",
    "\\begin{aligned}\n",
    "& \\frac{d s}{d t}=-\\beta i s  + \\xi r\\\\\n",
    "& \\frac{d e}{d t}=\\beta i s-\\sigma e \\\\\n",
    "& \\frac{d i}{d t}=\\sigma e-\\gamma i \\\\\n",
    "& \\frac{d r}{d t}=\\gamma i - \\xi r\n",
    "\\end{aligned}\n",
    "$$\n",
    "When supplemented with some initial conditions, say\n",
    "$$\n",
    "s(0)=0.99, \\quad e(0)=0.01, \\quad i(0)=0, \\quad r(0)=0\n",
    "$$\n",
    "This is the formulation of the Initial Value Probelm we wish to solve. Note that the above initial conditions correspond to a starting scenario where just $1 \\%$ of the population is exposed.\n"
   ]
  },
  {
   "cell_type": "code",
   "execution_count": 18,
   "id": "737e0e9a-bc27-45cc-ac4a-490dc0e302c5",
   "metadata": {},
   "outputs": [
    {
     "data": {
      "text/plain": [
       "array([0.21428571, 0.14285714, 0.07142857, 0.00273973])"
      ]
     },
     "execution_count": 18,
     "metadata": {},
     "output_type": "execute_result"
    }
   ],
   "source": [
    "gamma = 1/14.\n",
    "r0 = 3.\n",
    "beta = gamma * r0\n",
    "sigma = 1/7.\n",
    "xi = 1/365.\n",
    "\n",
    "true_lam = np.array([beta, sigma, gamma, xi])\n",
    "true_lam"
   ]
  },
  {
   "cell_type": "code",
   "execution_count": null,
   "id": "33eef0c8-4a85-4fe7-b5f5-e9111ff0d8c1",
   "metadata": {},
   "outputs": [
    {
     "name": "stdout",
     "output_type": "stream",
     "text": [
      "                                                                                \r"
     ]
    },
    {
     "name": "stderr",
     "output_type": "stream",
     "text": [
      "on 2: /opt/conda/envs/pyDCI/lib/python3.11/site-packages/scipy/integrate/_odepack_py.py:248: ODEintWarning: Excess work done on this call (perhaps wrong Dfun type). Run with full_output = 1 to get quantitative information.\n",
      "        warnings.warn(warning_msg, ODEintWarning)\n"
     ]
    },
    {
     "name": "stdout",
     "output_type": "stream",
     "text": [
      "Solving model sample set: |███████████████▌    | ▆█▆ 777/1000 [78%] in 3s (~1s, "
     ]
    }
   ],
   "source": [
    "import numpy as np\n",
    "from pydci.examples import seirs\n",
    "import importlib\n",
    "importlib.reload(seirs)\n",
    "\n",
    "sr = seirs.SEIRSModel()\n",
    "samples = sr.get_uniform_initial_samples(num_samples=1000, scale=0.5)\n",
    "res = sr.forward_solve(1000, samples=samples)\n",
    "sr.plot_states()"
   ]
  },
  {
   "cell_type": "code",
   "execution_count": null,
   "id": "6c64ef46-619f-4c49-b830-f36edbc6b32c",
   "metadata": {},
   "outputs": [],
   "source": []
  }
 ],
 "metadata": {
  "IMAGE_NAME": "taccsciapps/ds-nb-img:base-0.1.0",
  "UUID": "9c12bd92-d960-11ed-832a-0e069d7a4c69",
  "kernelspec": {
   "display_name": "pyDCI",
   "language": "python",
   "name": "pydci"
  },
  "language_info": {
   "codemirror_mode": {
    "name": "ipython",
    "version": 3
   },
   "file_extension": ".py",
   "mimetype": "text/x-python",
   "name": "python",
   "nbconvert_exporter": "python",
   "pygments_lexer": "ipython3",
   "version": "3.11.2"
  }
 },
 "nbformat": 4,
 "nbformat_minor": 5
}
