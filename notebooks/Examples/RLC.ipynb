{
 "cells": [
  {
   "cell_type": "markdown",
   "id": "5029481b-f6af-47e6-9337-a30bf8e6607b",
   "metadata": {
    "jp-MarkdownHeadingCollapsed": true,
    "tags": []
   },
   "source": [
    "# <center> Sequential MUD estimation for ODE Systems: RLC </center>"
   ]
  },
  {
   "cell_type": "markdown",
   "id": "499b3515-c8a7-4e19-8f09-448e88409c31",
   "metadata": {
    "citation-manager": {
     "citations": {
      "e9b62": [
       {
        "id": "11450669/7F6J6S7U",
        "source": "zotero"
       }
      ]
     }
    },
    "tags": []
   },
   "source": [
    "___\n",
    "<font color='blue'><center>**Carlos del-Castillo-Negrete, Rylan Spence**</center></font>\n",
    "    <br>\n",
    "    <center>University of Texas at Austin\n",
    "    <br>\n",
    "    carlos.delcastillo@utexas.edu, rylan.spence@utexas.edu</center>\n",
    "---\n"
   ]
  },
  {
   "cell_type": "markdown",
   "id": "ab81191e-aaea-4b37-9279-f70cc2ebc35d",
   "metadata": {
    "tags": []
   },
   "source": [
    "# RLC Model"
   ]
  },
  {
   "cell_type": "markdown",
   "id": "5f95f3fe-4b35-43f8-a663-d5b4010ba70b",
   "metadata": {
    "tags": []
   },
   "source": [
    "The RLC circuit is the electrical circuit consisting of a resistor of resistance $R$, a coil of inductance $L$, a capacitor of capacitance $C$ and a voltage source arranged in series. If the charge\n",
    "on the capacitor is $Q$ and the current flowing in the circuit is $I$, the voltage across $R, L$ and $C$ are $R I, L \\frac{d I}{d t}$ and $\\frac{Q}{C}$ respectively. By the Kirchhoff's law that says that the voltage between any two points has to be independent of the path used to travel between the two points,\n",
    "\n",
    "$$\n",
    "L I^{\\prime}(t)+R I(t)+\\frac{1}{C} Q(t)=V(t)\n",
    "$$\n",
    "\n",
    "Assuming that $R, L, C$ and $V$ are known, this is still one differential equation in two unknowns, $I$ and $Q$. However the two unknowns are related by $I(t)=\\frac{d Q}{d t}(t)$ so that\n",
    "\n",
    "$$\n",
    "L Q^{\\prime \\prime}(t)+R Q^{\\prime}(t)+\\frac{1}{C} Q(t)=V(t)\n",
    "$$\n",
    "\n",
    "or, differentiating with respect to $t$ and then subbing in $\\frac{d Q}{d t}(t)=I(t)$,\n",
    "\n",
    "$$\n",
    "L I^{\\prime \\prime}(t)+R I^{\\prime}(t)+\\frac{1}{C} I(t)=V^{\\prime}(t)\n",
    "$$\n",
    "\n",
    "This can be linearized into the following ODE system, by letting $x = [I, I^{\\prime}]^T$\n",
    "\n",
    "$$\n",
    "x_0^{\\prime} = x_1 \\\\\n",
    "x_1^{\\prime} = \\frac{1}{L}V^{\\prime} - \\frac{R}{L}x_1 - \\frac{1}{LC}x_0\n",
    "$$"
   ]
  },
  {
   "cell_type": "markdown",
   "id": "e4edbd30-c707-4a70-b985-5afaa1667fca",
   "metadata": {},
   "source": [
    "## Constant Voltage case\n",
    "\n",
    "If we assume the a constant voltage, then the system becomes:\n",
    "\n",
    "$$\n",
    "x_0^{\\prime} = x_1 \\\\\n",
    "x_1^{\\prime} = - \\frac{R}{L}x_1 - \\frac{1}{LC}x_0\n",
    "$$\n",
    "\n",
    "Where the initial condition becomes $x_0 = [I_0, 0]^T$"
   ]
  },
  {
   "cell_type": "code",
   "execution_count": 73,
   "id": "c0123a22-2214-486c-b37f-1c7a210d4d0a",
   "metadata": {},
   "outputs": [],
   "source": [
    "def rlc_system_constant(\n",
    "    states: np.array, times: np.array, *parameters: tuple[float, float, float]\n",
    ") -> np.array:\n",
    "    \"\"\"\n",
    "    Parameters\n",
    "    ----------\n",
    "    states : np.ndarray\n",
    "        An array of the current states of the system\n",
    "    time : np.ndarray\n",
    "        simulation time array\n",
    "    *parameters : tuple[float, float]\n",
    "        The parameters of the model: beta, gamma\n",
    "    Returns\n",
    "    -------\n",
    "    np.ndarray\n",
    "        The derivatives of the states with respect to time\n",
    "    \"\"\"\n",
    "    (r,) = parameters\n",
    "\n",
    "    xdot = [\n",
    "        states[1],\n",
    "        -(r / L) * states[1] - states[0] / (L * C),\n",
    "    ]\n",
    "    return xdot\n",
    "\n",
    "\n",
    "def run_rlc(x0, times, parameter_samples) -> None:\n",
    "    \"\"\"\n",
    "    Runs the RLC model for a specified number of drift windows.\n",
    "    Uses the initial state, the drift windows, the times, the get_parameters and save_output methods of the class\n",
    "    to integrate the system of ODEs and save the output for each window.\n",
    "\n",
    "    Parameters\n",
    "    ----------\n",
    "    self : object\n",
    "        The instance of the class\n",
    "    \"\"\"\n",
    "    return odeint(rlc_system_constant, x0, times, args=parameter_samples)"
   ]
  },
  {
   "cell_type": "code",
   "execution_count": 74,
   "id": "f7a73a96",
   "metadata": {},
   "outputs": [
    {
     "data": {
      "text/plain": [
       "<module 'algorithms' from '/Users/rylanspence/Desktop/Git/DC/DC_Sequential/dc_notebooks/ode_notebook/algorithms.py'>"
      ]
     },
     "execution_count": 74,
     "metadata": {},
     "output_type": "execute_result"
    }
   ],
   "source": [
    "importlib.reload(alg)"
   ]
  },
  {
   "cell_type": "markdown",
   "id": "8840b15d-959e-4a2f-bf0f-ddefb035c52b",
   "metadata": {},
   "source": [
    "### Response signal characteristics \n",
    "\n",
    "We know that the dampening factor:\n",
    "\n",
    "$$\n",
    "\\zeta = \\frac{R}{2}*\\sqrt{\\frac{C}{L}}\n",
    "$$\n",
    "\n",
    "We know that the regimes of behavior for the RL circuit are:\n",
    "\n",
    "1. $\\zeta < 1 \\rightarrow $ Underdamped - Decaying oscillations\n",
    "1. $\\zeta > 1 \\rightarrow $ Overdamped - Decay with no oscillations\n",
    "1. $\\zeta = 1 \\rightarrow $ Critically damped - fastest decay possible without going into oscillation"
   ]
  },
  {
   "cell_type": "code",
   "execution_count": 75,
   "id": "7f5b7f1b-57c0-4e58-ac0b-7162248a680f",
   "metadata": {},
   "outputs": [
    {
     "name": "stdout",
     "output_type": "stream",
     "text": [
      "Damping factor: 0.01\n"
     ]
    }
   ],
   "source": [
    "L = 100  # L - Inductance in henrys\n",
    "C = 1e-6  # C - Capicatance in Farads\n",
    "R = 200  # R - Resistance in ohms\n",
    "\n",
    "# Damping factor\n",
    "zeta = R / 2 * np.sqrt(C / L)\n",
    "print(f\"Damping factor: {zeta}\")"
   ]
  },
  {
   "cell_type": "markdown",
   "id": "34b09ee7-0efc-4fd5-b7d7-5a02109fb353",
   "metadata": {},
   "source": [
    "#### CASE: 1-Parameter No-Drift (Insufficient Sampling Rate)"
   ]
  },
  {
   "cell_type": "markdown",
   "id": "95919570-ea03-4d9f-833c-1225faf9b46b",
   "metadata": {},
   "source": [
    "#### <center> Select Seed & Run Model <center>"
   ]
  },
  {
   "cell_type": "code",
   "execution_count": 76,
   "id": "40f8a23c",
   "metadata": {},
   "outputs": [],
   "source": [
    "#       Seeds\n",
    "#      ---------\n",
    "# initial | Measure | Outcomes\n",
    "# -----------------------------\n",
    "# (452763, 648208)   okay\n",
    "# (751429, 265168)   good\n",
    "# (503875, 774940)   really bad\n",
    "# (986134, 379528)   really good"
   ]
  },
  {
   "cell_type": "code",
   "execution_count": 77,
   "id": "cc0a2e54",
   "metadata": {},
   "outputs": [],
   "source": [
    "# rlc1_initial_seed, rlc1_measurement_seed"
   ]
  },
  {
   "cell_type": "code",
   "execution_count": 78,
   "id": "1f98fb6e",
   "metadata": {},
   "outputs": [
    {
     "name": "stdout",
     "output_type": "stream",
     "text": [
      "Damping factor: 0.01\n"
     ]
    }
   ],
   "source": [
    "L = 100  # L - Inductance in henrys\n",
    "C = 1e-6  # C - Capicatance in Farads\n",
    "R = 200  # R - Resistance in ohms\n",
    "\n",
    "# Damping factor\n",
    "zeta = R / 2 * np.sqrt(C / L)\n",
    "print(f\"Damping factor: {zeta}\")"
   ]
  },
  {
   "cell_type": "code",
   "execution_count": 79,
   "id": "f7f8f7b4-0857-4b0b-b08f-5a73b8119f9c",
   "metadata": {
    "tags": []
   },
   "outputs": [
    {
     "name": "stdout",
     "output_type": "stream",
     "text": [
      "Initi: Uniform over [[ 40. 360.]]\n",
      "\n",
      "====== iteration 0 ======\n",
      "True Param: [200]\n",
      "Pushing 1000 samples forward through model\n",
      "1\n",
      "2\n",
      "\t ... SEARCH SUMMARY ...\n",
      "\t1: 2/3 points:\n",
      "\t\tBest(E(r)) = 1.3348781225489632\n",
      "\t\tBest(Mud) = [201.7303027]\n",
      "\t\tMean(E(r)) = 1.3971483058458052, STD(E(r)) = 0.062270183296841974\n",
      "\t\tMIN(E(r)) = 1.3348781225489632, MAX(E(r))) = 1.4594184891426472\n",
      "\n",
      "\tBest mud estimate nc = 1, num_ts = 2:\n",
      "\tmud point = [201.7303027]\n",
      "\tE(r) = 1.3348781225489632\n",
      "\tmin/max = (0.0, 39.77145952926711)\n",
      "\t Resampling from previous updated distribution\n",
      "\n",
      "====== iteration 1 ======\n",
      "True Param: [200]\n",
      "Pushing 1000 samples forward through model\n",
      "1\n",
      "2\n",
      "\t ... SEARCH SUMMARY ...\n",
      "\t1: 2/3 points:\n",
      "\t\tBest(E(r)) = 1.3327946425168051\n",
      "\t\tBest(Mud) = [200.18074338]\n",
      "\t\tMean(E(r)) = 1.3631984129543726, STD(E(r)) = 0.030403770437567368\n",
      "\t\tMIN(E(r)) = 1.3327946425168051, MAX(E(r))) = 1.3936021833919399\n",
      "\n",
      "\tBest mud estimate nc = 1, num_ts = 2:\n",
      "\tmud point = [200.18074338]\n",
      "\tE(r) = 1.3327946425168051\n",
      "\tmin/max = (0.0, 64.56009739446016)\n",
      "\t Resampling from previous updated distribution\n",
      "\n",
      "====== iteration 2 ======\n",
      "True Param: [200]\n",
      "Pushing 1000 samples forward through model\n",
      "1\n",
      "2\n",
      "\t ... SEARCH SUMMARY ...\n",
      "\t1: 2/3 points:\n",
      "\t\tBest(E(r)) = 1.1619343964005553\n",
      "\t\tBest(Mud) = [200.91261861]\n",
      "\t\tMean(E(r)) = 1.1869446087462974, STD(E(r)) = 0.02501021234574219\n",
      "\t\tMIN(E(r)) = 1.1619343964005553, MAX(E(r))) = 1.2119548210920397\n",
      "\n",
      "\tBest mud estimate nc = 1, num_ts = 2:\n",
      "\tmud point = [200.91261861]\n",
      "\tE(r) = 1.1619343964005553\n",
      "\tmin/max = (1.602062475622672e-253, 18.023478451802692)\n",
      "\t Resampling from previous updated distribution\n",
      "\n",
      "====== iteration 3 ======\n",
      "True Param: [200]\n",
      "Pushing 1000 samples forward through model\n",
      "1\n",
      "2\n",
      "\t ... SEARCH SUMMARY ...\n",
      "\t1: 2/3 points:\n",
      "\t\tBest(E(r)) = 1.2138929406566485\n",
      "\t\tBest(Mud) = [197.90961075]\n",
      "\t\tMean(E(r)) = 1.227598845534201, STD(E(r)) = 0.013705904877552522\n",
      "\t\tMIN(E(r)) = 1.2138929406566485, MAX(E(r))) = 1.2413047504117536\n",
      "\n",
      "\tBest mud estimate nc = 1, num_ts = 2:\n",
      "\tmud point = [197.90961075]\n",
      "\tE(r) = 1.2138929406566485\n",
      "\tmin/max = (0.0, 31.51520000762229)\n",
      "\t Resampling from previous updated distribution\n"
     ]
    }
   ],
   "source": [
    "sample_ts = 0.099\n",
    "solve_ts = 1e-3\n",
    "\n",
    "end_time = 1\n",
    "num_windows = 5\n",
    "time_window = end_time / num_windows\n",
    "\n",
    "I_0 = 10  # Initial current in Amps\n",
    "x_0 = np.array([I_0, 0])\n",
    "\n",
    "rlc1_true_param = [R]\n",
    "rlc1_param_shifts = []\n",
    "rlc1_diff = [\n",
    "    0.8,\n",
    "]\n",
    "\n",
    "rlc1_initial_seed = np.random.randint(0, 10e5)\n",
    "rlc1_measurement_seed = np.random.randint(0, 10e5)\n",
    "\n",
    "rlc1_res = alg.sequential_resampling(\n",
    "    run_rlc,\n",
    "    x_0,\n",
    "    rlc1_true_param,  # np.array([0.5]*4),\n",
    "    num_samples=1000,\n",
    "    measurement_noise=0.5,\n",
    "    diff=rlc1_diff,\n",
    "    solve_ts=solve_ts,\n",
    "    sample_ts=sample_ts,\n",
    "    time_window=time_window,\n",
    "    end_time=end_time,\n",
    "    param_shifts=rlc1_param_shifts,\n",
    "    max_nc=1,\n",
    "    param_mins=[0, 0, 0],\n",
    "    init_seed=rlc1_initial_seed,\n",
    "    obs_seed=rlc1_measurement_seed,\n",
    ")"
   ]
  }
 ],
 "metadata": {
  "IMAGE_NAME": "taccsciapps/ds-nb-img:base-0.1.0",
  "UUID": "2075e9ac-d22b-11ed-832a-0e069d7a4c69",
  "kernelspec": {
   "display_name": "Python [conda env:pyDCI]",
   "language": "python",
   "name": "conda-env-pyDCI-py"
  },
  "language_info": {
   "codemirror_mode": {
    "name": "ipython",
    "version": 3
   },
   "file_extension": ".py",
   "mimetype": "text/x-python",
   "name": "python",
   "nbconvert_exporter": "python",
   "pygments_lexer": "ipython3",
   "version": "3.11.2"
  },
  "toc-autonumbering": false,
  "toc-showmarkdowntxt": false
 },
 "nbformat": 4,
 "nbformat_minor": 5
}
