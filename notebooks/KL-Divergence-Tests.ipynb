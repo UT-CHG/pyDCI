{
 "cells": [
  {
   "cell_type": "code",
   "execution_count": 2,
   "id": "360bd7ec-83a9-482a-9276-a967f13aa728",
   "metadata": {
    "tags": []
   },
   "outputs": [],
   "source": [
    "import pandas as pd\n",
    "import numpy as np\n",
    "from scipy.stats import entropy\n",
    "from scipy.stats.distributions import norm\n",
    "import seaborn as sns\n",
    "import matplotlib.pyplot as plt\n",
    "from alive_progress import alive_bar\n",
    "import pdb"
   ]
  },
  {
   "cell_type": "code",
   "execution_count": 3,
   "id": "7d3d43d6-91fe-4267-b25f-98c69cf2ae30",
   "metadata": {
    "tags": []
   },
   "outputs": [
    {
     "ename": "NameError",
     "evalue": "name 'num_samples' is not defined",
     "output_type": "error",
     "traceback": [
      "\u001b[0;31m---------------------------------------------------------------------------\u001b[0m",
      "\u001b[0;31mNameError\u001b[0m                                 Traceback (most recent call last)",
      "Cell \u001b[0;32mIn[3], line 2\u001b[0m\n\u001b[1;32m      1\u001b[0m pi_obs \u001b[39m=\u001b[39m norm(\u001b[39m0\u001b[39m, \u001b[39m1\u001b[39m)\n\u001b[0;32m----> 2\u001b[0m pi_obs_x \u001b[39m=\u001b[39m pd\u001b[39m.\u001b[39mDataFrame({\u001b[39m\"\u001b[39m\u001b[39mx\u001b[39m\u001b[39m\"\u001b[39m: pi_obs\u001b[39m.\u001b[39mrvs(size\u001b[39m=\u001b[39m(num_samples))})\n\u001b[1;32m      3\u001b[0m pi_obs_x[\u001b[39m\"\u001b[39m\u001b[39mDistribution\u001b[39m\u001b[39m\"\u001b[39m] \u001b[39m=\u001b[39m \u001b[39m\"\u001b[39m\u001b[39m$\u001b[39m\u001b[39m\\\u001b[39m\u001b[39mpi_\u001b[39m\u001b[39m{{\u001b[39m\u001b[39mobs}}$\u001b[39m\u001b[39m\"\u001b[39m\n\u001b[1;32m      4\u001b[0m pi_obs_x[\u001b[39m\"\u001b[39m\u001b[39mKL\u001b[39m\u001b[39m\"\u001b[39m] \u001b[39m=\u001b[39m \u001b[39m0.0\u001b[39m\n",
      "\u001b[0;31mNameError\u001b[0m: name 'num_samples' is not defined"
     ]
    }
   ],
   "source": [
    "pi_obs = norm(0, 1)\n",
    "pi_obs_x = pd.DataFrame({\"x\": pi_obs.rvs(size=(num_samples))})\n",
    "pi_obs_x[\"Distribution\"] = \"$\\pi_{{obs}}$\"\n",
    "pi_obs_x[\"KL\"] = 0.0\n",
    "pi_obs_x"
   ]
  },
  {
   "cell_type": "code",
   "execution_count": 4,
   "id": "cafb45bd-f5b1-413c-9b2e-264d325f2a04",
   "metadata": {
    "tags": []
   },
   "outputs": [
    {
     "ename": "NameError",
     "evalue": "name 'pi_obs_x' is not defined",
     "output_type": "error",
     "traceback": [
      "\u001b[0;31m---------------------------------------------------------------------------\u001b[0m",
      "\u001b[0;31mNameError\u001b[0m                                 Traceback (most recent call last)",
      "Cell \u001b[0;32mIn[4], line 2\u001b[0m\n\u001b[1;32m      1\u001b[0m mean_range \u001b[39m=\u001b[39m np\u001b[39m.\u001b[39marange(\u001b[39m-\u001b[39m\u001b[39m3\u001b[39m, \u001b[39m3\u001b[39m, \u001b[39m1\u001b[39m)\n\u001b[0;32m----> 2\u001b[0m pi_dists \u001b[39m=\u001b[39m [pi_obs_x]\n\u001b[1;32m      3\u001b[0m \u001b[39mfor\u001b[39;00m i, m \u001b[39min\u001b[39;00m \u001b[39menumerate\u001b[39m(mean_range):\n\u001b[1;32m      4\u001b[0m     pi_pred_i \u001b[39m=\u001b[39m norm(m, \u001b[39m1\u001b[39m)\n",
      "\u001b[0;31mNameError\u001b[0m: name 'pi_obs_x' is not defined"
     ]
    }
   ],
   "source": [
    "mean_range = np.arange(-3, 3, 1)\n",
    "pi_dists = [pi_obs_x]\n",
    "for i, m in enumerate(mean_range):\n",
    "    pi_pred_i = norm(m, 1)\n",
    "    num_samples = 10000\n",
    "    pi_pred_i_x = pd.DataFrame({\"x\": pi_pred_i.rvs(size=(num_samples))})\n",
    "\n",
    "    domain = fit_domain(pi_pred_i_x[\"x\"].values.reshape(-1, 1), pad_ratio=2)\n",
    "    x = np.linspace(domain[0][0], domain[0][1], 10000)\n",
    "    kl = entropy(pi_obs.pdf(x), pi_pred_i.pdf(x))\n",
    "    pi_pred_i_x[\n",
    "        \"Distribution\"\n",
    "    ] = f\"$KL(\\mathcal{{N}}(0, 1), \\mathcal{{N}}({m}, 1)) = {kl:0.4f}$\"\n",
    "    pi_dists.append(pi_pred_i_x.copy())\n",
    "\n",
    "pi = pd.concat(pi_dists)\n",
    "fig, ax = plt.subplots(1, 1, figsize=(8, 5))\n",
    "sns.kdeplot(pi, hue=\"Distribution\", x=\"x\", ax=ax)"
   ]
  },
  {
   "cell_type": "code",
   "execution_count": 5,
   "id": "50846547-6db1-4da8-8095-ffa652cbb13c",
   "metadata": {
    "tags": []
   },
   "outputs": [
    {
     "ename": "NameError",
     "evalue": "name 'pi_obs_x' is not defined",
     "output_type": "error",
     "traceback": [
      "\u001b[0;31m---------------------------------------------------------------------------\u001b[0m",
      "\u001b[0;31mNameError\u001b[0m                                 Traceback (most recent call last)",
      "Cell \u001b[0;32mIn[5], line 2\u001b[0m\n\u001b[1;32m      1\u001b[0m std_dev_range \u001b[39m=\u001b[39m np\u001b[39m.\u001b[39marange(\u001b[39m0.5\u001b[39m, \u001b[39m2.5\u001b[39m, \u001b[39m0.4\u001b[39m)\n\u001b[0;32m----> 2\u001b[0m pi_dists \u001b[39m=\u001b[39m [pi_obs_x]\n\u001b[1;32m      3\u001b[0m \u001b[39mfor\u001b[39;00m i, s \u001b[39min\u001b[39;00m \u001b[39menumerate\u001b[39m(std_dev_range):\n\u001b[1;32m      4\u001b[0m     pi_pred_i \u001b[39m=\u001b[39m norm(\u001b[39m0\u001b[39m, s)\n",
      "\u001b[0;31mNameError\u001b[0m: name 'pi_obs_x' is not defined"
     ]
    }
   ],
   "source": [
    "std_dev_range = np.arange(0.5, 2.5, 0.4)\n",
    "pi_dists = [pi_obs_x]\n",
    "for i, s in enumerate(std_dev_range):\n",
    "    pi_pred_i = norm(0, s)\n",
    "    num_samples = 10000\n",
    "    pi_pred_i_x = pd.DataFrame({\"x\": pi_pred_i.rvs(size=(num_samples))})\n",
    "\n",
    "    domain = fit_domain(pi_pred_i_x[\"x\"].values.reshape(-1, 1), pad_ratio=2)\n",
    "    x = np.linspace(domain[0][0], domain[0][1], 10000)\n",
    "    kl = entropy(pi_obs.pdf(x), pi_pred_i.pdf(x))\n",
    "    pi_pred_i_x[\n",
    "        \"Distribution\"\n",
    "    ] = f\"$KL(\\mathcal{{N}}(0, 1), \\mathcal{{N}}(0, {s:0.1f})) = {kl:0.4f}$\"\n",
    "    pi_dists.append(pi_pred_i_x.copy())\n",
    "\n",
    "pi = pd.concat(pi_dists)\n",
    "fig, ax = plt.subplots(1, 1, figsize=(8, 5))\n",
    "sns.kdeplot(pi, hue=\"Distribution\", x=\"x\", ax=ax)"
   ]
  },
  {
   "cell_type": "code",
   "execution_count": 6,
   "id": "b2be7fdd-c8ff-4706-8ec1-179598a13030",
   "metadata": {
    "tags": []
   },
   "outputs": [
    {
     "name": "stdout",
     "output_type": "stream",
     "text": [
      "Calculating KL divergences |                                        | ▁▃▅ 0/2000"
     ]
    },
    {
     "name": "stdout",
     "output_type": "stream",
     "text": [
      "Calculating KL divergences |████████████████████████████████████████| 20000/2000\n"
     ]
    }
   ],
   "source": [
    "# Define the range and step size for x and y values\n",
    "mean_min, mean_max = -5, 5\n",
    "std_dev_min, std_dev_max = 5, 10\n",
    "step_size = 0.05\n",
    "\n",
    "# Create a 2D grid of x and y values using numpy.meshgrid()\n",
    "mean_values = np.arange(mean_min, mean_max, step_size)\n",
    "std_dev_values = np.arange(std_dev_min, std_dev_max, step_size)\n",
    "xx, yy = np.meshgrid(mean_values, std_dev_values)\n",
    "\n",
    "# Define the function to be plotted\n",
    "zz = np.zeros(xx.shape).ravel()\n",
    "x = np.linspace(-100, 100, 10000)\n",
    "m_s = [(i, j) for i in mean_values for j in std_dev_values]\n",
    "with alive_bar(len(m_s), title=\"Calculating KL divergences\", force_tty=True) as bar:\n",
    "    for i, (mean, std) in enumerate(m_s):\n",
    "        pi_pred_i = norm(mean, std)\n",
    "        zz[i] = entropy(pi_obs.pdf(x), pi_pred_i.pdf(x))\n",
    "        bar()\n",
    "zz = zz.reshape(xx.shape)"
   ]
  },
  {
   "cell_type": "code",
   "execution_count": 7,
   "id": "92d2297c-e79e-4057-b378-06d9641b1bb8",
   "metadata": {
    "tags": []
   },
   "outputs": [
    {
     "data": {
      "image/png": "[encoded data removed]",
      "text/plain": [
       "<Figure size 640x480 with 2 Axes>"
      ]
     },
     "metadata": {},
     "output_type": "display_data"
    }
   ],
   "source": [
    "# Create a plot of the 2D grid\n",
    "plt.contourf(xx, yy, zz, cmap=\"coolwarm\")\n",
    "\n",
    "# Add labels and a title to the plot\n",
    "plt.xlabel(\"$\\mu$\")\n",
    "plt.ylabel(\"$\\sigma$\")\n",
    "plt.title(f\"$KL(\\mathcal{{N}}(0, 1), \\mathcal{{N}}(\\mu, \\sigma))$\")\n",
    "\n",
    "plt.colorbar()\n",
    "# Display the plot\n",
    "plt.show()"
   ]
  },
  {
   "cell_type": "code",
   "execution_count": null,
   "id": "3a95b924-5e3b-40dc-b5f7-b76ceb14cadf",
   "metadata": {},
   "outputs": [],
   "source": []
  }
 ],
 "metadata": {
  "citation-manager": {
   "items": {}
  },
  "kernelspec": {
   "display_name": "chg-dev",
   "language": "python",
   "name": "python3"
  },
  "language_info": {
   "codemirror_mode": {
    "name": "ipython",
    "version": 3
   },
   "file_extension": ".py",
   "mimetype": "text/x-python",
   "name": "python",
   "nbconvert_exporter": "python",
   "pygments_lexer": "ipython3",
   "version": "3.11.0"
  }
 },
 "nbformat": 4,
 "nbformat_minor": 5
}
