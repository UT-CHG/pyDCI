{
 "cells": [
  {
   "cell_type": "markdown",
   "id": "54612448-9339-4280-a222-3ac32ef0cf5d",
   "metadata": {
    "tags": []
   },
   "source": [
    "## Preamble"
   ]
  },
  {
   "cell_type": "code",
   "execution_count": 1,
   "id": "48b88bad-746f-4133-9edb-799fc2cf6f96",
   "metadata": {},
   "outputs": [
    {
     "data": {
      "text/html": [
       "<pre style=\"white-space:pre;overflow-x:auto;line-height:normal;font-family:Menlo,'DejaVu Sans Mono',consolas,'Courier New',monospace\"><span style=\"color: #7fbfbf; text-decoration-color: #7fbfbf\">[04/06/23 15:19:57] </span><span style=\"color: #000080; text-decoration-color: #000080\">INFO    </span> Logger initialized                                                           <a href=\"file:///home/jupyter/MyData/repos/pyDCI/src/pydci/log.py\" target=\"_blank\"><span style=\"color: #7f7f7f; text-decoration-color: #7f7f7f\">log.py</span></a><span style=\"color: #7f7f7f; text-decoration-color: #7f7f7f\">:</span><a href=\"file:///home/jupyter/MyData/repos/pyDCI/src/pydci/log.py#35\" target=\"_blank\"><span style=\"color: #7f7f7f; text-decoration-color: #7f7f7f\">35</span></a>\n",
       "</pre>\n"
      ],
      "text/plain": [
       "\u001b[2;36m[04/06/23 15:19:57]\u001b[0m\u001b[2;36m \u001b[0m\u001b[34mINFO    \u001b[0m Logger initialized                                                           \u001b]8;id=124692;file:///home/jupyter/MyData/repos/pyDCI/src/pydci/log.py\u001b\\\u001b[2mlog.py\u001b[0m\u001b]8;;\u001b\\\u001b[2m:\u001b[0m\u001b]8;id=599114;file:///home/jupyter/MyData/repos/pyDCI/src/pydci/log.py#35\u001b\\\u001b[2m35\u001b[0m\u001b]8;;\u001b\\\n"
      ]
     },
     "metadata": {},
     "output_type": "display_data"
    }
   ],
   "source": [
    "from pydci.examples.monomial import monomial\n",
    "from pydci.log import enable_log\n",
    "from pydci import DCIProblem\n",
    "from scipy.stats.distributions import norm\n",
    "import numpy as np\n",
    "import importlib\n",
    "import matplotlib.pyplot as plt\n",
    "\n",
    "__author__ = \"Carlos del-Castillo-Negrete\"\n",
    "__copyright__ = \"Carlos del-Castillo-Negrete\"\n",
    "__license__ = \"mit\"\n",
    "\n",
    "seed = 123456\n",
    "\n",
    "_ = enable_log()"
   ]
  },
  {
   "cell_type": "markdown",
   "id": "17a85c17-d2fe-4a33-8204-8641bc1cd9eb",
   "metadata": {
    "tags": []
   },
   "source": [
    "<a id='Title'></a>\n",
    "# <center> Data-Consistent Inversion Class\n",
    "_____\n",
    "\n",
    "<center>\n",
    "    Notebook by:\n",
    "    <br>\n",
    "    Carlos del-Castillo-Negrete (<font color='blue'>cdelcastillo21@gmail.com</font>)\n",
    "</center>"
   ]
  },
  {
   "cell_type": "markdown",
   "id": "42d7da3a-e840-40cb-8f91-7bd2cb22a0d8",
   "metadata": {},
   "source": [
    "The purpose of this notebook is to demonstrate usage of the `DCIProblem` class and plotting capabilities."
   ]
  },
  {
   "cell_type": "markdown",
   "id": "2c574c03-a39c-418f-a445-09b3c65d4739",
   "metadata": {
    "slideshow": {
     "slide_type": "slide"
    },
    "tags": []
   },
   "source": [
    "<a id='Title'></a>\n",
    "## Data-Consistent Update Formula: \n",
    "\n",
    "$\\Large \\pi_{up}(\\lambda) = \\pi_{in}(\\lambda)\\frac{\\pi_{ob}(Q(\\lambda))}{\\pi_{pred}(Q(\\lambda))}$\n"
   ]
  },
  {
   "cell_type": "markdown",
   "id": "e76db73c-2fd0-4821-9c6d-330ed80d86b6",
   "metadata": {},
   "source": [
    "Note:\n",
    "\n",
    "* $\\pi_{in}$ represents initial descripton of aleatoric, or irreducible, uncertainty on $\\Lambda$.\n",
    "\n",
    "* Data-Consistent comes from Disintegration theorem and Bayes rule [ref].\n"
   ]
  },
  {
   "cell_type": "markdown",
   "id": "acad9992-0c1f-4779-ac35-58d5c9dbe8aa",
   "metadata": {},
   "source": [
    "## Example 1 - Low Dimensional Example\n",
    "---"
   ]
  },
  {
   "cell_type": "markdown",
   "id": "a6c9ffcc-164e-4965-bf31-27a708b43828",
   "metadata": {
    "tags": []
   },
   "source": [
    "We start with a simple QoI map over a one-dimensional parameter space:\n",
    "   \n",
    "   $$ \\Large \\Lambda = [-1, 1] \\in \\mathbb{R} $$  \n",
    "   \n",
    "   $$ \\Large Q(\\lambda) = \\lambda^5 \\rightarrow \\mathcal{D} = [-1, 1] $$"
   ]
  },
  {
   "cell_type": "markdown",
   "id": "79db0008-abe2-4612-913b-b4f292288544",
   "metadata": {
    "tags": []
   },
   "source": [
    "We assume:\n",
    "\n",
    "   $\\pi_{in} \\sim \\mathcal{U}([-1, 1])$\n",
    "  \n",
    "   $\\pi_{ob} \\sim \\mathcal{N}(0.25,0.1^2)$"
   ]
  },
  {
   "cell_type": "markdown",
   "id": "77cf134a-956c-48a0-b6b8-755680181f05",
   "metadata": {
    "tags": []
   },
   "source": [
    "### Data\n",
    "\n",
    "We take $N$ samples from an initial uniform distribution over the input parameter space. These samples will be pushed forward through our QoI map to constrcut the predicted density $\\pi_{pred}$:"
   ]
  },
  {
   "cell_type": "code",
   "execution_count": 2,
   "id": "e1b5d202-5cbe-4da9-9a43-ae6f7d5cfbd7",
   "metadata": {
    "tags": []
   },
   "outputs": [
    {
     "data": {
      "text/plain": [
       "((1000, 1), (1000, 1), (1,))"
      ]
     },
     "execution_count": 2,
     "metadata": {},
     "output_type": "execute_result"
    }
   ],
   "source": [
    "# Number of samples to use, and assumed observed normal distribution parameters\n",
    "np.random.seed(seed)\n",
    "p, num_samples, mu, sigma, domain = 5, int(1e3), 0.25, 0.1, [-1, 1]\n",
    "lam, q_lam, data = monomial(\n",
    "    p=p,\n",
    "    num_samples=num_samples,\n",
    "    domain=domain,\n",
    "    mu=mu,\n",
    "    sigma=sigma,\n",
    "    N=1)\n",
    "obs_dist = norm(loc=np.mean(data), scale=sigma)\n",
    "lam.shape, q_lam.shape, data.shape"
   ]
  },
  {
   "cell_type": "code",
   "execution_count": 4,
   "id": "73afac99-a076-4f2d-857d-a6b27defc3c5",
   "metadata": {
    "tags": []
   },
   "outputs": [
    {
     "data": {
      "text/html": [
       "<pre style=\"white-space:pre;overflow-x:auto;line-height:normal;font-family:Menlo,'DejaVu Sans Mono',consolas,'Courier New',monospace\"><span style=\"color: #7fbfbf; text-decoration-color: #7fbfbf\">[04/06/23 15:20:09] </span><span style=\"color: #000080; text-decoration-color: #000080\">INFO    </span> Adding q_lam of size <span style=\"color: #008080; text-decoration-color: #008080; font-weight: bold\">1</span> to dataframe                                       <a href=\"file:///home/jupyter/MyData/repos/pyDCI/src/pydci/utils.py\" target=\"_blank\"><span style=\"color: #7f7f7f; text-decoration-color: #7f7f7f\">utils.py</span></a><span style=\"color: #7f7f7f; text-decoration-color: #7f7f7f\">:</span><a href=\"file:///home/jupyter/MyData/repos/pyDCI/src/pydci/utils.py#147\" target=\"_blank\"><span style=\"color: #7f7f7f; text-decoration-color: #7f7f7f\">147</span></a>\n",
       "</pre>\n"
      ],
      "text/plain": [
       "\u001b[2;36m[04/06/23 15:20:09]\u001b[0m\u001b[2;36m \u001b[0m\u001b[34mINFO    \u001b[0m Adding q_lam of size \u001b[1;36m1\u001b[0m to dataframe                                       \u001b]8;id=677144;file:///home/jupyter/MyData/repos/pyDCI/src/pydci/utils.py\u001b\\\u001b[2mutils.py\u001b[0m\u001b]8;;\u001b\\\u001b[2m:\u001b[0m\u001b]8;id=83744;file:///home/jupyter/MyData/repos/pyDCI/src/pydci/utils.py#147\u001b\\\u001b[2m147\u001b[0m\u001b]8;;\u001b\\\n"
      ]
     },
     "metadata": {},
     "output_type": "display_data"
    },
    {
     "data": {
      "text/html": [
       "<pre style=\"white-space:pre;overflow-x:auto;line-height:normal;font-family:Menlo,'DejaVu Sans Mono',consolas,'Courier New',monospace\"><span style=\"color: #7fbfbf; text-decoration-color: #7fbfbf\">                    </span><span style=\"color: #000080; text-decoration-color: #000080\">INFO    </span> Adding lam of size <span style=\"color: #008080; text-decoration-color: #008080; font-weight: bold\">1</span> to dataframe                                         <a href=\"file:///home/jupyter/MyData/repos/pyDCI/src/pydci/utils.py\" target=\"_blank\"><span style=\"color: #7f7f7f; text-decoration-color: #7f7f7f\">utils.py</span></a><span style=\"color: #7f7f7f; text-decoration-color: #7f7f7f\">:</span><a href=\"file:///home/jupyter/MyData/repos/pyDCI/src/pydci/utils.py#147\" target=\"_blank\"><span style=\"color: #7f7f7f; text-decoration-color: #7f7f7f\">147</span></a>\n",
       "</pre>\n"
      ],
      "text/plain": [
       "\u001b[2;36m                   \u001b[0m\u001b[2;36m \u001b[0m\u001b[34mINFO    \u001b[0m Adding lam of size \u001b[1;36m1\u001b[0m to dataframe                                         \u001b]8;id=709563;file:///home/jupyter/MyData/repos/pyDCI/src/pydci/utils.py\u001b\\\u001b[2mutils.py\u001b[0m\u001b]8;;\u001b\\\u001b[2m:\u001b[0m\u001b]8;id=68316;file:///home/jupyter/MyData/repos/pyDCI/src/pydci/utils.py#147\u001b\\\u001b[2m147\u001b[0m\u001b]8;;\u001b\\\n"
      ]
     },
     "metadata": {},
     "output_type": "display_data"
    }
   ],
   "source": [
    "# Construct density problem object using lambda samples and QoI Values\n",
    "# Note by default DensityProblem class assumes uniform distribution over domain if nothing specified\n",
    "# The predicted distribution will be determined from a Gaussian Kernel Density Estimate over predicted values\n",
    "# Have to set observed distribution -> assuming known sample mean, 0.25, and std dev, 0.1, from observed data.\n",
    "importlib.reload(DCIProblem)\n",
    "d_prob = DCIProblem.DCIProblem(lam, q_lam, obs_dist)\n",
    "d_prob.solve()"
   ]
  },
  {
   "cell_type": "code",
   "execution_count": 6,
   "id": "b6138f2d-9c52-4c4f-a69d-32ed172a899c",
   "metadata": {},
   "outputs": [
    {
     "data": {
      "text/html": [
       "<div>\n",
       "<style scoped>\n",
       "    .dataframe tbody tr th:only-of-type {\n",
       "        vertical-align: middle;\n",
       "    }\n",
       "\n",
       "    .dataframe tbody tr th {\n",
       "        vertical-align: top;\n",
       "    }\n",
       "\n",
       "    .dataframe thead th {\n",
       "        text-align: right;\n",
       "    }\n",
       "</style>\n",
       "<table border=\"1\" class=\"dataframe\">\n",
       "  <thead>\n",
       "    <tr style=\"text-align: right;\">\n",
       "      <th></th>\n",
       "      <th>weight</th>\n",
       "      <th>pi_in</th>\n",
       "      <th>pi_pr</th>\n",
       "      <th>pi_obs</th>\n",
       "      <th>ratio</th>\n",
       "      <th>pi_up</th>\n",
       "      <th>lam_0</th>\n",
       "      <th>q_lam_0</th>\n",
       "    </tr>\n",
       "  </thead>\n",
       "  <tbody>\n",
       "    <tr>\n",
       "      <th>0</th>\n",
       "      <td>1.0</td>\n",
       "      <td>0.453013</td>\n",
       "      <td>0.406244</td>\n",
       "      <td>0.000038</td>\n",
       "      <td>0.000092</td>\n",
       "      <td>0.000042</td>\n",
       "      <td>-0.746060</td>\n",
       "      <td>-0.231137</td>\n",
       "    </tr>\n",
       "    <tr>\n",
       "      <th>1</th>\n",
       "      <td>1.0</td>\n",
       "      <td>0.370229</td>\n",
       "      <td>0.173494</td>\n",
       "      <td>0.000108</td>\n",
       "      <td>0.000622</td>\n",
       "      <td>0.000230</td>\n",
       "      <td>0.933436</td>\n",
       "      <td>0.708634</td>\n",
       "    </tr>\n",
       "    <tr>\n",
       "      <th>2</th>\n",
       "      <td>1.0</td>\n",
       "      <td>0.535527</td>\n",
       "      <td>3.181646</td>\n",
       "      <td>0.090365</td>\n",
       "      <td>0.028402</td>\n",
       "      <td>0.015210</td>\n",
       "      <td>-0.479048</td>\n",
       "      <td>-0.025229</td>\n",
       "    </tr>\n",
       "    <tr>\n",
       "      <th>3</th>\n",
       "      <td>1.0</td>\n",
       "      <td>0.454461</td>\n",
       "      <td>0.247348</td>\n",
       "      <td>3.197684</td>\n",
       "      <td>12.927849</td>\n",
       "      <td>5.875209</td>\n",
       "      <td>0.794473</td>\n",
       "      <td>0.316516</td>\n",
       "    </tr>\n",
       "    <tr>\n",
       "      <th>4</th>\n",
       "      <td>1.0</td>\n",
       "      <td>0.514298</td>\n",
       "      <td>3.325140</td>\n",
       "      <td>0.171333</td>\n",
       "      <td>0.051526</td>\n",
       "      <td>0.026500</td>\n",
       "      <td>-0.246501</td>\n",
       "      <td>-0.000910</td>\n",
       "    </tr>\n",
       "    <tr>\n",
       "      <th>...</th>\n",
       "      <td>...</td>\n",
       "      <td>...</td>\n",
       "      <td>...</td>\n",
       "      <td>...</td>\n",
       "      <td>...</td>\n",
       "      <td>...</td>\n",
       "      <td>...</td>\n",
       "      <td>...</td>\n",
       "    </tr>\n",
       "    <tr>\n",
       "      <th>995</th>\n",
       "      <td>1.0</td>\n",
       "      <td>0.488401</td>\n",
       "      <td>3.264702</td>\n",
       "      <td>0.252562</td>\n",
       "      <td>0.077361</td>\n",
       "      <td>0.037783</td>\n",
       "      <td>0.432104</td>\n",
       "      <td>0.015064</td>\n",
       "    </tr>\n",
       "    <tr>\n",
       "      <th>996</th>\n",
       "      <td>1.0</td>\n",
       "      <td>0.499770</td>\n",
       "      <td>3.306908</td>\n",
       "      <td>0.212984</td>\n",
       "      <td>0.064406</td>\n",
       "      <td>0.032188</td>\n",
       "      <td>0.379948</td>\n",
       "      <td>0.007918</td>\n",
       "    </tr>\n",
       "    <tr>\n",
       "      <th>997</th>\n",
       "      <td>1.0</td>\n",
       "      <td>0.541642</td>\n",
       "      <td>3.287667</td>\n",
       "      <td>0.125151</td>\n",
       "      <td>0.038067</td>\n",
       "      <td>0.020619</td>\n",
       "      <td>-0.420394</td>\n",
       "      <td>-0.013130</td>\n",
       "    </tr>\n",
       "    <tr>\n",
       "      <th>998</th>\n",
       "      <td>1.0</td>\n",
       "      <td>0.541358</td>\n",
       "      <td>3.277962</td>\n",
       "      <td>0.120212</td>\n",
       "      <td>0.036673</td>\n",
       "      <td>0.019853</td>\n",
       "      <td>-0.429739</td>\n",
       "      <td>-0.014656</td>\n",
       "    </tr>\n",
       "    <tr>\n",
       "      <th>999</th>\n",
       "      <td>1.0</td>\n",
       "      <td>0.456243</td>\n",
       "      <td>1.887713</td>\n",
       "      <td>1.090728</td>\n",
       "      <td>0.577804</td>\n",
       "      <td>0.263619</td>\n",
       "      <td>0.616357</td>\n",
       "      <td>0.088953</td>\n",
       "    </tr>\n",
       "  </tbody>\n",
       "</table>\n",
       "<p>1000 rows × 8 columns</p>\n",
       "</div>"
      ],
      "text/plain": [
       "     weight     pi_in     pi_pr    pi_obs      ratio     pi_up     lam_0  \\\n",
       "0       1.0  0.453013  0.406244  0.000038   0.000092  0.000042 -0.746060   \n",
       "1       1.0  0.370229  0.173494  0.000108   0.000622  0.000230  0.933436   \n",
       "2       1.0  0.535527  3.181646  0.090365   0.028402  0.015210 -0.479048   \n",
       "3       1.0  0.454461  0.247348  3.197684  12.927849  5.875209  0.794473   \n",
       "4       1.0  0.514298  3.325140  0.171333   0.051526  0.026500 -0.246501   \n",
       "..      ...       ...       ...       ...        ...       ...       ...   \n",
       "995     1.0  0.488401  3.264702  0.252562   0.077361  0.037783  0.432104   \n",
       "996     1.0  0.499770  3.306908  0.212984   0.064406  0.032188  0.379948   \n",
       "997     1.0  0.541642  3.287667  0.125151   0.038067  0.020619 -0.420394   \n",
       "998     1.0  0.541358  3.277962  0.120212   0.036673  0.019853 -0.429739   \n",
       "999     1.0  0.456243  1.887713  1.090728   0.577804  0.263619  0.616357   \n",
       "\n",
       "      q_lam_0  \n",
       "0   -0.231137  \n",
       "1    0.708634  \n",
       "2   -0.025229  \n",
       "3    0.316516  \n",
       "4   -0.000910  \n",
       "..        ...  \n",
       "995  0.015064  \n",
       "996  0.007918  \n",
       "997 -0.013130  \n",
       "998 -0.014656  \n",
       "999  0.088953  \n",
       "\n",
       "[1000 rows x 8 columns]"
      ]
     },
     "execution_count": 6,
     "metadata": {},
     "output_type": "execute_result"
    }
   ],
   "source": [
    "d_prob.state           # State stores all info on the DCI problem as solved"
   ]
  },
  {
   "cell_type": "code",
   "execution_count": 7,
   "id": "f1d5e371-0d44-4493-8ecf-8d278b1f5059",
   "metadata": {},
   "outputs": [
    {
     "data": {
      "text/html": [
       "<div>\n",
       "<style scoped>\n",
       "    .dataframe tbody tr th:only-of-type {\n",
       "        vertical-align: middle;\n",
       "    }\n",
       "\n",
       "    .dataframe tbody tr th {\n",
       "        vertical-align: top;\n",
       "    }\n",
       "\n",
       "    .dataframe thead th {\n",
       "        text-align: right;\n",
       "    }\n",
       "</style>\n",
       "<table border=\"1\" class=\"dataframe\">\n",
       "  <thead>\n",
       "    <tr style=\"text-align: right;\">\n",
       "      <th></th>\n",
       "      <th>e_r</th>\n",
       "      <th>kl</th>\n",
       "    </tr>\n",
       "  </thead>\n",
       "  <tbody>\n",
       "    <tr>\n",
       "      <th>0</th>\n",
       "      <td>0.789373</td>\n",
       "      <td>2.120273</td>\n",
       "    </tr>\n",
       "  </tbody>\n",
       "</table>\n",
       "</div>"
      ],
      "text/plain": [
       "        e_r        kl\n",
       "0  0.789373  2.120273"
      ]
     },
     "execution_count": 7,
     "metadata": {},
     "output_type": "execute_result"
    }
   ],
   "source": [
    "d_prob.result"
   ]
  },
  {
   "cell_type": "code",
   "execution_count": 23,
   "id": "b09b1356-9833-45c7-b21b-5da7f18619de",
   "metadata": {},
   "outputs": [
    {
     "data": {
      "image/png": "[encoded data removed]",
      "text/plain": [
       "<Figure size 1400x600 with 2 Axes>"
      ]
     },
     "metadata": {},
     "output_type": "display_data"
    }
   ],
   "source": [
    "fig, axs = plt.subplots(1, 2, figsize=(14, 6))\n",
    "_, _ = d_prob.plot_param_state(ax=axs[0]), d_prob.plot_obs_state(ax=axs[1])"
   ]
  }
 ],
 "metadata": {
  "IMAGE_NAME": "taccsciapps/ds-nb-img:base-0.1.0",
  "UUID": "18512548-d325-11ed-832a-0e069d7a4c69",
  "kernelspec": {
   "display_name": "pyDCI",
   "language": "python",
   "name": "pydci"
  },
  "language_info": {
   "codemirror_mode": {
    "name": "ipython",
    "version": 3
   },
   "file_extension": ".py",
   "mimetype": "text/x-python",
   "name": "python",
   "nbconvert_exporter": "python",
   "pygments_lexer": "ipython3",
   "version": "3.11.2"
  }
 },
 "nbformat": 4,
 "nbformat_minor": 5
}
